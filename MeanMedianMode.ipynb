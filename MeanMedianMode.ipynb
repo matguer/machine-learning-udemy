{
 "cells": [
  {
   "cell_type": "markdown",
   "metadata": {},
   "source": [
    "# Mean, Median, Mode, and introducing NumPy"
   ]
  },
  {
   "cell_type": "markdown",
   "metadata": {},
   "source": [
    "## Mean vs. Median"
   ]
  },
  {
   "cell_type": "markdown",
   "metadata": {},
   "source": [
    "Let's create some fake income data, centered around 27,000 with a normal distribution and standard deviation of 15,000, with 10,000 data points. (We'll discuss those terms more later, if you're not familiar with them.)\n",
    "\n",
    "Then, compute the mean (average) - it should be close to 27,000:"
   ]
  },
  {
   "cell_type": "code",
   "execution_count": 2,
   "metadata": {},
   "outputs": [
    {
     "data": {
      "text/plain": [
       "26946.99856708874"
      ]
     },
     "execution_count": 2,
     "metadata": {},
     "output_type": "execute_result"
    }
   ],
   "source": [
    "import numpy as np\n",
    "\n",
    "incomes = np.random.normal(27000, 15000, 10000)\n",
    "np.mean(incomes)"
   ]
  },
  {
   "cell_type": "markdown",
   "metadata": {},
   "source": [
    "We can segment the income data into 50 buckets, and plot it as a histogram:"
   ]
  },
  {
   "cell_type": "code",
   "execution_count": 10,
   "metadata": {},
   "outputs": [
    {
     "data": {
      "image/png": "[encoded data removed]",
      "text/plain": [
       "<Figure size 432x288 with 1 Axes>"
      ]
     },
     "metadata": {
      "needs_background": "light"
     },
     "output_type": "display_data"
    }
   ],
   "source": [
    "%matplotlib inline\n",
    "import matplotlib.pyplot as plt\n",
    "plt.hist(incomes, 50)\n",
    "plt.show()"
   ]
  },
  {
   "cell_type": "markdown",
   "metadata": {},
   "source": [
    "Now compute the median - since we have a nice, even distribution it too should be close to 27,000:"
   ]
  },
  {
   "cell_type": "code",
   "execution_count": 13,
   "metadata": {},
   "outputs": [
    {
     "data": {
      "text/plain": [
       "27093.98888803411"
      ]
     },
     "execution_count": 13,
     "metadata": {},
     "output_type": "execute_result"
    }
   ],
   "source": [
    "np.median(incomes)"
   ]
  },
  {
   "cell_type": "markdown",
   "metadata": {},
   "source": [
    "Now we'll add Jeff Bezos into the mix. Darn income inequality!"
   ]
  },
  {
   "cell_type": "code",
   "execution_count": 5,
   "metadata": {},
   "outputs": [],
   "source": [
    "incomes = np.append(incomes, [1000000000])"
   ]
  },
  {
   "cell_type": "markdown",
   "metadata": {},
   "source": [
    "The median won't change much, but the mean does:"
   ]
  },
  {
   "cell_type": "code",
   "execution_count": 6,
   "metadata": {},
   "outputs": [
    {
     "data": {
      "text/plain": [
       "27094.925128862807"
      ]
     },
     "execution_count": 6,
     "metadata": {},
     "output_type": "execute_result"
    }
   ],
   "source": [
    "np.median(incomes)"
   ]
  },
  {
   "cell_type": "code",
   "execution_count": 7,
   "metadata": {},
   "outputs": [
    {
     "data": {
      "text/plain": [
       "126934.30513657509"
      ]
     },
     "execution_count": 7,
     "metadata": {},
     "output_type": "execute_result"
    }
   ],
   "source": [
    "np.mean(incomes)"
   ]
  },
  {
   "cell_type": "markdown",
   "metadata": {},
   "source": [
    "## Mode"
   ]
  },
  {
   "cell_type": "markdown",
   "metadata": {},
   "source": [
    "Next, let's generate some fake age data for 500 people:"
   ]
  },
  {
   "cell_type": "code",
   "execution_count": 18,
   "metadata": {},
   "outputs": [
    {
     "data": {
      "text/plain": [
       "array([32, 40, 30, 41, 86, 88, 88, 18, 60, 77, 18, 22, 59, 80, 75, 75, 84,\n",
       "       69, 39, 58, 83, 61, 57, 63, 40, 87, 89, 24, 27, 46, 86, 45, 32, 58,\n",
       "       29, 32, 60, 51, 81, 89, 82, 69, 39, 24, 83, 42, 57, 47, 28, 83, 51,\n",
       "       43, 61, 33, 41, 24, 73, 44, 40, 42, 55, 19, 87, 72, 48, 55, 21, 19,\n",
       "       47, 52, 70, 66, 65, 25, 59, 24, 44, 48, 87, 49, 31, 51, 66, 49, 19,\n",
       "       70, 40, 87, 64, 61, 47, 47, 35, 41, 41, 49, 67, 54, 48, 64, 69, 66,\n",
       "       21, 76, 64, 19, 44, 53, 85, 61, 52, 88, 52, 87, 44, 56, 56, 51, 83,\n",
       "       52, 34, 25, 67, 68, 88, 58, 32, 47, 30, 57, 32, 67, 49, 28, 88, 39,\n",
       "       85, 66, 74, 44, 67, 27, 58, 37, 62, 60, 39, 55, 21, 45, 23, 85, 78,\n",
       "       59, 52, 80, 46, 48, 88, 55, 54, 76, 83, 82, 50, 72, 46, 55, 47, 68,\n",
       "       82, 38, 68, 59, 74, 76, 69, 58, 69, 58, 23, 30, 42, 48, 60, 70, 45,\n",
       "       60, 80, 24, 51, 19, 49, 65, 25, 69, 65, 75, 38, 40, 30, 48, 84, 83,\n",
       "       73, 38, 21, 49, 76, 24, 69, 60, 54, 30, 29, 88, 87, 65, 38, 33, 81,\n",
       "       76, 25, 61, 61, 71, 52, 71, 50, 40, 33, 45, 81, 61, 56, 43, 38, 40,\n",
       "       59, 55, 82, 48, 34, 57, 53, 42, 45, 66, 19, 30, 74, 48, 83, 61, 75,\n",
       "       41, 54, 55, 72, 64, 82, 54, 37, 60, 55, 44, 32, 46, 88, 74, 85, 72,\n",
       "       27, 20, 81, 45, 61, 75, 55, 62, 85, 42, 83, 27, 50, 52, 37, 49, 36,\n",
       "       53, 65, 38, 77, 49, 43, 78, 44, 77, 39, 89, 68, 33, 39, 60, 50, 86,\n",
       "       58, 62, 76, 89, 82, 34, 83, 36, 69, 40, 46, 79, 50, 61, 47, 63, 44,\n",
       "       40, 33, 87, 72, 25, 37, 60, 71, 18, 41, 58, 72, 72, 26, 23, 40, 72,\n",
       "       54, 89, 87, 21, 41, 72, 33, 73, 25, 41, 62, 27, 20, 60, 38, 83, 21,\n",
       "       28, 38, 49, 88, 61, 36, 38, 77, 66, 42, 27, 82, 77, 21, 35, 81, 50,\n",
       "       62, 20, 60, 59, 71, 73, 20, 27, 65, 73, 89, 30, 30, 54, 29, 19, 61,\n",
       "       69, 40, 47, 53, 26, 42, 18, 67, 52, 43, 40, 75, 62, 56, 42, 69, 53,\n",
       "       87, 47, 89, 79, 24, 70, 36, 88, 87, 87, 83, 35, 45, 82, 32, 40, 75,\n",
       "       39, 88, 42, 56, 22, 34, 59, 36, 87, 39, 31, 74, 48, 27, 29, 28, 71,\n",
       "       72, 49, 84, 67, 62, 37, 38, 34, 38, 66, 18, 31, 32, 78, 24, 32, 87,\n",
       "       29, 65, 55, 39, 43, 78, 75, 40, 39, 65, 85, 53, 58, 42, 34, 72, 46,\n",
       "       33, 55, 34, 46, 70, 85, 28, 19, 33, 20, 28, 32, 41, 22, 22, 81, 30,\n",
       "       48, 49, 84, 79, 57, 74, 52])"
      ]
     },
     "execution_count": 18,
     "metadata": {},
     "output_type": "execute_result"
    }
   ],
   "source": [
    "ages = np.random.randint(18, high=90, size=500)\n",
    "ages"
   ]
  },
  {
   "cell_type": "code",
   "execution_count": 19,
   "metadata": {},
   "outputs": [
    {
     "data": {
      "text/plain": [
       "ModeResult(mode=array([40]), count=array([14]))"
      ]
     },
     "execution_count": 19,
     "metadata": {},
     "output_type": "execute_result"
    }
   ],
   "source": [
    "from scipy import stats\n",
    "stats.mode(ages)"
   ]
  },
  {
   "cell_type": "code",
   "execution_count": null,
   "metadata": {},
   "outputs": [],
   "source": []
  }
 ],
 "metadata": {
  "kernelspec": {
   "display_name": "Python 3",
   "language": "python",
   "name": "python3"
  },
  "language_info": {
   "codemirror_mode": {
    "name": "ipython",
    "version": 3
   },
   "file_extension": ".py",
   "mimetype": "text/x-python",
   "name": "python",
   "nbconvert_exporter": "python",
   "pygments_lexer": "ipython3",
   "version": "3.7.3"
  }
 },
 "nbformat": 4,
 "nbformat_minor": 1
}
