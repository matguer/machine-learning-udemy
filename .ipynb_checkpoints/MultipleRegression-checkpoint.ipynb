{
 "cells": [
  {
   "cell_type": "markdown",
   "metadata": {},
   "source": [
    "# Multiple Regression"
   ]
  },
  {
   "cell_type": "markdown",
   "metadata": {},
   "source": [
    "Let's grab a small little data set of Blue Book car values:"
   ]
  },
  {
   "cell_type": "code",
   "execution_count": 1,
   "metadata": {},
   "outputs": [],
   "source": [
    "import pandas as pd\n",
    "\n",
    "df = pd.read_excel('http://cdn.sundog-soft.com/Udemy/DataScience/cars.xls')\n"
   ]
  },
  {
   "cell_type": "code",
   "execution_count": 4,
   "metadata": {},
   "outputs": [
    {
     "name": "stdout",
     "output_type": "stream",
     "text": [
      "                     Mileage         Price\n",
      "Mileage                                   \n",
      "(0, 10000]       5588.629630  24096.714451\n",
      "(10000, 20000]  15898.496183  21955.979607\n",
      "(20000, 30000]  24114.407104  20278.606252\n",
      "(30000, 40000]  33610.338710  19463.670267\n"
     ]
    },
    {
     "data": {
      "text/plain": [
       "<matplotlib.axes._subplots.AxesSubplot at 0x7f0cba96b828>"
      ]
     },
     "execution_count": 4,
     "metadata": {},
     "output_type": "execute_result"
    },
    {
     "data": {
      "image/png": "[encoded data removed]",
      "text/plain": [
       "<Figure size 432x288 with 1 Axes>"
      ]
     },
     "metadata": {
      "needs_background": "light"
     },
     "output_type": "display_data"
    }
   ],
   "source": [
    "%matplotlib inline\n",
    "import numpy as np\n",
    "df1=df[['Mileage','Price']]\n",
    "bins =  np.arange(0,50000,10000)\n",
    "groups = df1.groupby(pd.cut(df1['Mileage'],bins)).mean()\n",
    "print(groups.head())\n",
    "groups['Price'].plot.line()\n"
   ]
  },
  {
   "cell_type": "markdown",
   "metadata": {},
   "source": [
    "We can use pandas to split up this matrix into the feature vectors we're interested in, and the value we're trying to predict.\n",
    "\n",
    "Note how we are avoiding the make and model; regressions don't work well with ordinal values, unless you can convert them into some numerical order that makes sense somehow.\n",
    "\n",
    "Let's scale our feature data into the same range so we can easily compare the coefficients we end up with."
   ]
  },
  {
   "cell_type": "code",
   "execution_count": 97,
   "metadata": {
    "scrolled": false
   },
   "outputs": [
    {
     "name": "stderr",
     "output_type": "stream",
     "text": [
      "/home/mguerson/anaconda3/lib/python3.7/site-packages/sklearn/utils/validation.py:595: DataConversionWarning: Data with input dtype int64 was converted to float64 by StandardScaler.\n",
      "  warnings.warn(msg, DataConversionWarning)\n",
      "/home/mguerson/anaconda3/lib/python3.7/site-packages/sklearn/utils/validation.py:595: DataConversionWarning: Data with input dtype int64 was converted to float64 by StandardScaler.\n",
      "  warnings.warn(msg, DataConversionWarning)\n"
     ]
    },
    {
     "name": "stdout",
     "output_type": "stream",
     "text": [
      "     const   Mileage  Cylinder     Doors\n",
      "0      1.0 -1.417485  0.527410  0.556279\n",
      "1      1.0 -1.305902  0.527410  0.556279\n",
      "2      1.0 -0.810128  0.527410  0.556279\n",
      "3      1.0 -0.426058  0.527410  0.556279\n",
      "4      1.0  0.000008  0.527410  0.556279\n",
      "5      1.0  0.293493  0.527410  0.556279\n",
      "6      1.0  0.335001  0.527410  0.556279\n",
      "7      1.0  0.382369  0.527410  0.556279\n",
      "8      1.0  0.511409  0.527410  0.556279\n",
      "9      1.0  0.914768  0.527410  0.556279\n",
      "10     1.0 -1.171368  0.527410  0.556279\n",
      "11     1.0 -0.581834  0.527410  0.556279\n",
      "12     1.0 -0.390532  0.527410  0.556279\n",
      "13     1.0 -0.003899  0.527410  0.556279\n",
      "14     1.0  0.430591  0.527410  0.556279\n",
      "15     1.0  0.480156  0.527410  0.556279\n",
      "16     1.0  0.509822  0.527410  0.556279\n",
      "17     1.0  0.757160  0.527410  0.556279\n",
      "18     1.0  1.594886  0.527410  0.556279\n",
      "19     1.0  1.810849  0.527410  0.556279\n",
      "20     1.0 -1.326046  0.527410  0.556279\n",
      "21     1.0 -1.129860  0.527410  0.556279\n",
      "22     1.0 -0.667658  0.527410  0.556279\n",
      "23     1.0 -0.405792  0.527410  0.556279\n",
      "24     1.0 -0.112796  0.527410  0.556279\n",
      "25     1.0 -0.044552  0.527410  0.556279\n",
      "26     1.0  0.190700  0.527410  0.556279\n",
      "27     1.0  0.337442  0.527410  0.556279\n",
      "28     1.0  0.566102  0.527410  0.556279\n",
      "29     1.0  0.660837  0.527410  0.556279\n",
      "..     ...       ...       ...       ...\n",
      "774    1.0 -0.161262 -0.914896  0.556279\n",
      "775    1.0 -0.089234 -0.914896  0.556279\n",
      "776    1.0 -0.040523 -0.914896  0.556279\n",
      "777    1.0  0.002572 -0.914896  0.556279\n",
      "778    1.0  0.236603 -0.914896  0.556279\n",
      "779    1.0  0.249666 -0.914896  0.556279\n",
      "780    1.0  0.357220 -0.914896  0.556279\n",
      "781    1.0  0.365521 -0.914896  0.556279\n",
      "782    1.0  0.434131 -0.914896  0.556279\n",
      "783    1.0  0.517269 -0.914896  0.556279\n",
      "784    1.0  0.589908 -0.914896  0.556279\n",
      "785    1.0  0.599186 -0.914896  0.556279\n",
      "786    1.0  0.793052 -0.914896  0.556279\n",
      "787    1.0  1.033554 -0.914896  0.556279\n",
      "788    1.0  1.045762 -0.914896  0.556279\n",
      "789    1.0  1.205567 -0.914896  0.556279\n",
      "790    1.0  1.541414 -0.914896  0.556279\n",
      "791    1.0  1.561070 -0.914896  0.556279\n",
      "792    1.0  1.725026 -0.914896  0.556279\n",
      "793    1.0  1.851502 -0.914896  0.556279\n",
      "794    1.0 -1.709871  0.527410  0.556279\n",
      "795    1.0 -1.474375  0.527410  0.556279\n",
      "796    1.0 -1.187849  0.527410  0.556279\n",
      "797    1.0 -1.079929  0.527410  0.556279\n",
      "798    1.0 -0.682430  0.527410  0.556279\n",
      "799    1.0 -0.439853  0.527410  0.556279\n",
      "800    1.0 -0.089966  0.527410  0.556279\n",
      "801    1.0  0.079605  0.527410  0.556279\n",
      "802    1.0  0.750446  0.527410  0.556279\n",
      "803    1.0  1.932565  0.527410  0.556279\n",
      "\n",
      "[804 rows x 4 columns]\n",
      "                            OLS Regression Results                            \n",
      "==============================================================================\n",
      "Dep. Variable:                  Price   R-squared:                       0.360\n",
      "Model:                            OLS   Adj. R-squared:                  0.358\n",
      "Method:                 Least Squares   F-statistic:                     150.0\n",
      "Date:                Wed, 08 Jun 2022   Prob (F-statistic):           3.95e-77\n",
      "Time:                        19:39:45   Log-Likelihood:                -8356.7\n",
      "No. Observations:                 804   AIC:                         1.672e+04\n",
      "Df Residuals:                     800   BIC:                         1.674e+04\n",
      "Df Model:                           3                                         \n",
      "Covariance Type:            nonrobust                                         \n",
      "==============================================================================\n",
      "                 coef    std err          t      P>|t|      [0.025      0.975]\n",
      "------------------------------------------------------------------------------\n",
      "const       2.134e+04    279.405     76.388      0.000    2.08e+04    2.19e+04\n",
      "Mileage    -1272.3412    279.567     -4.551      0.000   -1821.112    -723.571\n",
      "Cylinder    5587.4472    279.527     19.989      0.000    5038.754    6136.140\n",
      "Doors      -1404.5513    279.446     -5.026      0.000   -1953.085    -856.018\n",
      "==============================================================================\n",
      "Omnibus:                      157.913   Durbin-Watson:                   0.069\n",
      "Prob(Omnibus):                  0.000   Jarque-Bera (JB):              257.529\n",
      "Skew:                           1.278   Prob(JB):                     1.20e-56\n",
      "Kurtosis:                       4.074   Cond. No.                         1.03\n",
      "==============================================================================\n",
      "\n",
      "Warnings:\n",
      "[1] Standard Errors assume that the covariance matrix of the errors is correctly specified.\n"
     ]
    },
    {
     "name": "stderr",
     "output_type": "stream",
     "text": [
      "/home/mguerson/anaconda3/lib/python3.7/site-packages/ipykernel_launcher.py:9: SettingWithCopyWarning: \n",
      "A value is trying to be set on a copy of a slice from a DataFrame.\n",
      "Try using .loc[row_indexer,col_indexer] = value instead\n",
      "\n",
      "See the caveats in the documentation: http://pandas.pydata.org/pandas-docs/stable/indexing.html#indexing-view-versus-copy\n",
      "  if __name__ == '__main__':\n",
      "/home/mguerson/anaconda3/lib/python3.7/site-packages/pandas/core/indexing.py:543: SettingWithCopyWarning: \n",
      "A value is trying to be set on a copy of a slice from a DataFrame.\n",
      "Try using .loc[row_indexer,col_indexer] = value instead\n",
      "\n",
      "See the caveats in the documentation: http://pandas.pydata.org/pandas-docs/stable/indexing.html#indexing-view-versus-copy\n",
      "  self.obj[item] = s\n",
      "/home/mguerson/anaconda3/lib/python3.7/site-packages/numpy/core/fromnumeric.py:2389: FutureWarning: Method .ptp is deprecated and will be removed in a future version. Use numpy.ptp instead.\n",
      "  return ptp(axis=axis, out=out, **kwargs)\n"
     ]
    },
    {
     "data": {
      "text/plain": [
       "<statsmodels.regression.linear_model.RegressionResultsWrapper at 0x7f0ca01d65c0>"
      ]
     },
     "execution_count": 97,
     "metadata": {},
     "output_type": "execute_result"
    }
   ],
   "source": [
    "import statsmodels.api as sm\n",
    "from sklearn.preprocessing import StandardScaler\n",
    "def multiple_regression(df):\n",
    "    scale = StandardScaler()\n",
    "\n",
    "    X = df[['Mileage', 'Cylinder', 'Doors']]\n",
    "    y = df['Price']\n",
    "\n",
    "    X[['Mileage', 'Cylinder', 'Doors']] = scale.fit_transform(X[['Mileage', 'Cylinder', 'Doors']].values)\n",
    "\n",
    "    # Add a constant column to our model so we can have a Y-intercept\n",
    "    X = sm.add_constant(X)\n",
    "\n",
    "    print (X)\n",
    "\n",
    "    est = sm.OLS(y, X).fit()\n",
    "\n",
    "    print(est.summary())\n",
    "    \n",
    "    return est\n",
    "    \n",
    "multiple_regression(df)"
   ]
  },
  {
   "cell_type": "markdown",
   "metadata": {},
   "source": [
    "The table of coefficients above gives us the values to plug into an equation of form:\n",
    "    B0 + B1 * Mileage + B2 * cylinders + B3 * doors\n",
    "    \n",
    "In this example, it's pretty clear that the number of cylinders is more important than anything based on the coefficients.\n",
    "\n",
    "Could we have figured that out earlier?"
   ]
  },
  {
   "cell_type": "code",
   "execution_count": 18,
   "metadata": {},
   "outputs": [
    {
     "data": {
      "text/plain": [
       "Doors\n",
       "2    23807.135520\n",
       "4    20580.670749\n",
       "Name: Price, dtype: float64"
      ]
     },
     "execution_count": 18,
     "metadata": {},
     "output_type": "execute_result"
    }
   ],
   "source": [
    "y.groupby(df.Doors).mean()"
   ]
  },
  {
   "cell_type": "markdown",
   "metadata": {},
   "source": [
    "Surprisingly, more doors does not mean a higher price! (Maybe it implies a sport car in some cases?) So it's not surprising that it's pretty useless as a predictor here. This is a very small data set however, so we can't really read much meaning into it.\n",
    "\n",
    "How would you use this to make an actual prediction? Start by scaling your multiple feature variables into the same scale used to train the model, then just call est.predict() on the scaled features:"
   ]
  },
  {
   "cell_type": "code",
   "execution_count": 5,
   "metadata": {},
   "outputs": [
    {
     "name": "stdout",
     "output_type": "stream",
     "text": [
      "[1.         3.07256589 1.96971667 0.55627894]\n",
      "[27658.15707316]\n"
     ]
    }
   ],
   "source": [
    "scaled = scale.transform([[45000, 8, 4]])\n",
    "scaled = np.insert(scaled[0], 0, 1) #Need to add that constant column in again.\n",
    "print(scaled)\n",
    "predicted = est.predict(scaled)\n",
    "print(predicted)"
   ]
  },
  {
   "cell_type": "markdown",
   "metadata": {},
   "source": [
    "## Activity"
   ]
  },
  {
   "cell_type": "markdown",
   "metadata": {},
   "source": [
    "Mess around with the fake input data, and see if you can create a measurable influence of number of doors on price. Have some fun with it - why stop at 4 doors?"
   ]
  },
  {
   "cell_type": "code",
   "execution_count": 20,
   "metadata": {},
   "outputs": [
    {
     "data": {
      "text/html": [
       "<div>\n",
       "<style scoped>\n",
       "    .dataframe tbody tr th:only-of-type {\n",
       "        vertical-align: middle;\n",
       "    }\n",
       "\n",
       "    .dataframe tbody tr th {\n",
       "        vertical-align: top;\n",
       "    }\n",
       "\n",
       "    .dataframe thead th {\n",
       "        text-align: right;\n",
       "    }\n",
       "</style>\n",
       "<table border=\"1\" class=\"dataframe\">\n",
       "  <thead>\n",
       "    <tr style=\"text-align: right;\">\n",
       "      <th></th>\n",
       "      <th>Price</th>\n",
       "      <th>Mileage</th>\n",
       "      <th>Cylinder</th>\n",
       "      <th>Liter</th>\n",
       "      <th>Doors</th>\n",
       "      <th>Cruise</th>\n",
       "      <th>Sound</th>\n",
       "      <th>Leather</th>\n",
       "    </tr>\n",
       "  </thead>\n",
       "  <tbody>\n",
       "    <tr>\n",
       "      <th>count</th>\n",
       "      <td>804.000000</td>\n",
       "      <td>804.000000</td>\n",
       "      <td>804.000000</td>\n",
       "      <td>804.000000</td>\n",
       "      <td>804.000000</td>\n",
       "      <td>804.000000</td>\n",
       "      <td>804.000000</td>\n",
       "      <td>804.000000</td>\n",
       "    </tr>\n",
       "    <tr>\n",
       "      <th>mean</th>\n",
       "      <td>21343.143767</td>\n",
       "      <td>19831.934080</td>\n",
       "      <td>5.268657</td>\n",
       "      <td>3.037313</td>\n",
       "      <td>3.527363</td>\n",
       "      <td>0.752488</td>\n",
       "      <td>0.679104</td>\n",
       "      <td>0.723881</td>\n",
       "    </tr>\n",
       "    <tr>\n",
       "      <th>std</th>\n",
       "      <td>9884.852801</td>\n",
       "      <td>8196.319707</td>\n",
       "      <td>1.387531</td>\n",
       "      <td>1.105562</td>\n",
       "      <td>0.850169</td>\n",
       "      <td>0.431836</td>\n",
       "      <td>0.467111</td>\n",
       "      <td>0.447355</td>\n",
       "    </tr>\n",
       "    <tr>\n",
       "      <th>min</th>\n",
       "      <td>8638.930895</td>\n",
       "      <td>266.000000</td>\n",
       "      <td>4.000000</td>\n",
       "      <td>1.600000</td>\n",
       "      <td>2.000000</td>\n",
       "      <td>0.000000</td>\n",
       "      <td>0.000000</td>\n",
       "      <td>0.000000</td>\n",
       "    </tr>\n",
       "    <tr>\n",
       "      <th>25%</th>\n",
       "      <td>14273.073870</td>\n",
       "      <td>14623.500000</td>\n",
       "      <td>4.000000</td>\n",
       "      <td>2.200000</td>\n",
       "      <td>4.000000</td>\n",
       "      <td>1.000000</td>\n",
       "      <td>0.000000</td>\n",
       "      <td>0.000000</td>\n",
       "    </tr>\n",
       "    <tr>\n",
       "      <th>50%</th>\n",
       "      <td>18024.995019</td>\n",
       "      <td>20913.500000</td>\n",
       "      <td>6.000000</td>\n",
       "      <td>2.800000</td>\n",
       "      <td>4.000000</td>\n",
       "      <td>1.000000</td>\n",
       "      <td>1.000000</td>\n",
       "      <td>1.000000</td>\n",
       "    </tr>\n",
       "    <tr>\n",
       "      <th>75%</th>\n",
       "      <td>26717.316636</td>\n",
       "      <td>25213.000000</td>\n",
       "      <td>6.000000</td>\n",
       "      <td>3.800000</td>\n",
       "      <td>4.000000</td>\n",
       "      <td>1.000000</td>\n",
       "      <td>1.000000</td>\n",
       "      <td>1.000000</td>\n",
       "    </tr>\n",
       "    <tr>\n",
       "      <th>max</th>\n",
       "      <td>70755.466717</td>\n",
       "      <td>50387.000000</td>\n",
       "      <td>8.000000</td>\n",
       "      <td>6.000000</td>\n",
       "      <td>4.000000</td>\n",
       "      <td>1.000000</td>\n",
       "      <td>1.000000</td>\n",
       "      <td>1.000000</td>\n",
       "    </tr>\n",
       "  </tbody>\n",
       "</table>\n",
       "</div>"
      ],
      "text/plain": [
       "              Price       Mileage    Cylinder       Liter       Doors  \\\n",
       "count    804.000000    804.000000  804.000000  804.000000  804.000000   \n",
       "mean   21343.143767  19831.934080    5.268657    3.037313    3.527363   \n",
       "std     9884.852801   8196.319707    1.387531    1.105562    0.850169   \n",
       "min     8638.930895    266.000000    4.000000    1.600000    2.000000   \n",
       "25%    14273.073870  14623.500000    4.000000    2.200000    4.000000   \n",
       "50%    18024.995019  20913.500000    6.000000    2.800000    4.000000   \n",
       "75%    26717.316636  25213.000000    6.000000    3.800000    4.000000   \n",
       "max    70755.466717  50387.000000    8.000000    6.000000    4.000000   \n",
       "\n",
       "           Cruise       Sound     Leather  \n",
       "count  804.000000  804.000000  804.000000  \n",
       "mean     0.752488    0.679104    0.723881  \n",
       "std      0.431836    0.467111    0.447355  \n",
       "min      0.000000    0.000000    0.000000  \n",
       "25%      1.000000    0.000000    0.000000  \n",
       "50%      1.000000    1.000000    1.000000  \n",
       "75%      1.000000    1.000000    1.000000  \n",
       "max      1.000000    1.000000    1.000000  "
      ]
     },
     "execution_count": 20,
     "metadata": {},
     "output_type": "execute_result"
    }
   ],
   "source": [
    "df.describe()"
   ]
  },
  {
   "cell_type": "code",
   "execution_count": 21,
   "metadata": {},
   "outputs": [
    {
     "data": {
      "text/plain": [
       "<matplotlib.axes._subplots.AxesSubplot at 0x7f0cb994acf8>"
      ]
     },
     "execution_count": 21,
     "metadata": {},
     "output_type": "execute_result"
    },
    {
     "data": {
      "image/png": "[encoded data removed]",
      "text/plain": [
       "<Figure size 432x288 with 1 Axes>"
      ]
     },
     "metadata": {
      "needs_background": "light"
     },
     "output_type": "display_data"
    }
   ],
   "source": [
    "df.Doors.hist()"
   ]
  },
  {
   "cell_type": "code",
   "execution_count": 31,
   "metadata": {},
   "outputs": [
    {
     "data": {
      "image/png": "[encoded data removed]",
      "text/plain": [
       "<Figure size 432x288 with 1 Axes>"
      ]
     },
     "metadata": {
      "needs_background": "light"
     },
     "output_type": "display_data"
    }
   ],
   "source": [
    "import seaborn as sns\n",
    "ax=sns.swarmplot(x='Doors', y='Price', data=df)"
   ]
  },
  {
   "cell_type": "code",
   "execution_count": 32,
   "metadata": {},
   "outputs": [
    {
     "data": {
      "image/png": "[encoded data removed]",
      "text/plain": [
       "<Figure size 432x288 with 1 Axes>"
      ]
     },
     "metadata": {
      "needs_background": "light"
     },
     "output_type": "display_data"
    }
   ],
   "source": [
    "ax=sns.boxplot(x='Doors', y='Price', data=df)"
   ]
  },
  {
   "cell_type": "code",
   "execution_count": 94,
   "metadata": {},
   "outputs": [
    {
     "data": {
      "text/html": [
       "<div>\n",
       "<style scoped>\n",
       "    .dataframe tbody tr th:only-of-type {\n",
       "        vertical-align: middle;\n",
       "    }\n",
       "\n",
       "    .dataframe tbody tr th {\n",
       "        vertical-align: top;\n",
       "    }\n",
       "\n",
       "    .dataframe thead th {\n",
       "        text-align: right;\n",
       "    }\n",
       "</style>\n",
       "<table border=\"1\" class=\"dataframe\">\n",
       "  <thead>\n",
       "    <tr style=\"text-align: right;\">\n",
       "      <th></th>\n",
       "      <th>Price</th>\n",
       "      <th>Doors</th>\n",
       "      <th>Mileage</th>\n",
       "      <th>Make</th>\n",
       "      <th>Model</th>\n",
       "      <th>Trim</th>\n",
       "      <th>Type</th>\n",
       "      <th>Cylinder</th>\n",
       "      <th>Liter</th>\n",
       "      <th>Cruise</th>\n",
       "      <th>Sound</th>\n",
       "      <th>Leather</th>\n",
       "    </tr>\n",
       "  </thead>\n",
       "  <tbody>\n",
       "    <tr>\n",
       "      <th>0</th>\n",
       "      <td>47421.140002</td>\n",
       "      <td>5</td>\n",
       "      <td>22189</td>\n",
       "      <td>SAAB</td>\n",
       "      <td>9_3 HO</td>\n",
       "      <td>Arc Sedan 4D</td>\n",
       "      <td>Sedan</td>\n",
       "      <td>4</td>\n",
       "      <td>2.0</td>\n",
       "      <td>1</td>\n",
       "      <td>0</td>\n",
       "      <td>0</td>\n",
       "    </tr>\n",
       "    <tr>\n",
       "      <th>1</th>\n",
       "      <td>41592.854352</td>\n",
       "      <td>5</td>\n",
       "      <td>25285</td>\n",
       "      <td>Pontiac</td>\n",
       "      <td>Sunfire</td>\n",
       "      <td>Coupe 2D</td>\n",
       "      <td>Coupe</td>\n",
       "      <td>4</td>\n",
       "      <td>2.2</td>\n",
       "      <td>0</td>\n",
       "      <td>1</td>\n",
       "      <td>1</td>\n",
       "    </tr>\n",
       "    <tr>\n",
       "      <th>2</th>\n",
       "      <td>40925.065006</td>\n",
       "      <td>5</td>\n",
       "      <td>25049</td>\n",
       "      <td>SAAB</td>\n",
       "      <td>9_3 HO</td>\n",
       "      <td>Aero Conv 2D</td>\n",
       "      <td>Convertible</td>\n",
       "      <td>4</td>\n",
       "      <td>2.0</td>\n",
       "      <td>1</td>\n",
       "      <td>0</td>\n",
       "      <td>0</td>\n",
       "    </tr>\n",
       "    <tr>\n",
       "      <th>3</th>\n",
       "      <td>49275.762910</td>\n",
       "      <td>5</td>\n",
       "      <td>32039</td>\n",
       "      <td>Chevrolet</td>\n",
       "      <td>Corvette</td>\n",
       "      <td>Conv 2D</td>\n",
       "      <td>Convertible</td>\n",
       "      <td>8</td>\n",
       "      <td>6.0</td>\n",
       "      <td>1</td>\n",
       "      <td>1</td>\n",
       "      <td>1</td>\n",
       "    </tr>\n",
       "    <tr>\n",
       "      <th>4</th>\n",
       "      <td>48289.337534</td>\n",
       "      <td>5</td>\n",
       "      <td>22479</td>\n",
       "      <td>SAAB</td>\n",
       "      <td>9_3 HO</td>\n",
       "      <td>Aero Conv 2D</td>\n",
       "      <td>Convertible</td>\n",
       "      <td>4</td>\n",
       "      <td>2.0</td>\n",
       "      <td>1</td>\n",
       "      <td>0</td>\n",
       "      <td>0</td>\n",
       "    </tr>\n",
       "  </tbody>\n",
       "</table>\n",
       "</div>"
      ],
      "text/plain": [
       "          Price  Doors  Mileage       Make     Model          Trim  \\\n",
       "0  47421.140002      5    22189       SAAB    9_3 HO  Arc Sedan 4D   \n",
       "1  41592.854352      5    25285    Pontiac   Sunfire      Coupe 2D   \n",
       "2  40925.065006      5    25049       SAAB    9_3 HO  Aero Conv 2D   \n",
       "3  49275.762910      5    32039  Chevrolet  Corvette       Conv 2D   \n",
       "4  48289.337534      5    22479       SAAB    9_3 HO  Aero Conv 2D   \n",
       "\n",
       "          Type  Cylinder  Liter  Cruise  Sound  Leather  \n",
       "0        Sedan         4    2.0       1      0        0  \n",
       "1        Coupe         4    2.2       0      1        1  \n",
       "2  Convertible         4    2.0       1      0        0  \n",
       "3  Convertible         8    6.0       1      1        1  \n",
       "4  Convertible         4    2.0       1      0        0  "
      ]
     },
     "execution_count": 94,
     "metadata": {},
     "output_type": "execute_result"
    }
   ],
   "source": [
    "new_data_size = 500\n",
    "new_prices = np.random.normal(50000,5000,new_data_size)\n",
    "df_sample = df.sample(new_data_size)\n",
    "new_data = {'Price': new_prices, \n",
    "            'Doors': [5]*new_data_size, \n",
    "            'Mileage': df_sample['Mileage'].values,\n",
    "            'Make': df_sample['Make'].values, \n",
    "            'Model': df_sample['Model'].values,\n",
    "            'Trim': df_sample['Trim'].values, \n",
    "            'Type': df_sample['Type'].values,\n",
    "            'Cylinder': df_sample['Cylinder'].values, \n",
    "            'Liter': df_sample['Liter'].values,\n",
    "            'Cruise': df_sample['Cruise'].values, \n",
    "            'Sound': df_sample['Sound'].values,\n",
    "            'Leather': df_sample['Leather'].values,\n",
    "            }\n",
    "\n",
    "df1 = pd.DataFrame.from_dict(new_data)\n",
    "df1.head()"
   ]
  },
  {
   "cell_type": "code",
   "execution_count": 95,
   "metadata": {},
   "outputs": [
    {
     "name": "stderr",
     "output_type": "stream",
     "text": [
      "/home/mguerson/anaconda3/lib/python3.7/site-packages/ipykernel_launcher.py:1: FutureWarning: Sorting because non-concatenation axis is not aligned. A future version\n",
      "of pandas will change to not sort by default.\n",
      "\n",
      "To accept the future behavior, pass 'sort=False'.\n",
      "\n",
      "To retain the current behavior and silence the warning, pass 'sort=True'.\n",
      "\n",
      "  \"\"\"Entry point for launching an IPython kernel.\n"
     ]
    },
    {
     "data": {
      "text/html": [
       "<div>\n",
       "<style scoped>\n",
       "    .dataframe tbody tr th:only-of-type {\n",
       "        vertical-align: middle;\n",
       "    }\n",
       "\n",
       "    .dataframe tbody tr th {\n",
       "        vertical-align: top;\n",
       "    }\n",
       "\n",
       "    .dataframe thead th {\n",
       "        text-align: right;\n",
       "    }\n",
       "</style>\n",
       "<table border=\"1\" class=\"dataframe\">\n",
       "  <thead>\n",
       "    <tr style=\"text-align: right;\">\n",
       "      <th></th>\n",
       "      <th>Cruise</th>\n",
       "      <th>Cylinder</th>\n",
       "      <th>Doors</th>\n",
       "      <th>Leather</th>\n",
       "      <th>Liter</th>\n",
       "      <th>Mileage</th>\n",
       "      <th>Price</th>\n",
       "      <th>Sound</th>\n",
       "    </tr>\n",
       "  </thead>\n",
       "  <tbody>\n",
       "    <tr>\n",
       "      <th>count</th>\n",
       "      <td>1304.000000</td>\n",
       "      <td>1304.000000</td>\n",
       "      <td>1304.000000</td>\n",
       "      <td>1304.000000</td>\n",
       "      <td>1304.000000</td>\n",
       "      <td>1304.000000</td>\n",
       "      <td>1304.000000</td>\n",
       "      <td>1304.000000</td>\n",
       "    </tr>\n",
       "    <tr>\n",
       "      <th>mean</th>\n",
       "      <td>0.752301</td>\n",
       "      <td>5.246933</td>\n",
       "      <td>4.092025</td>\n",
       "      <td>0.723160</td>\n",
       "      <td>3.018328</td>\n",
       "      <td>19852.257669</td>\n",
       "      <td>32405.028151</td>\n",
       "      <td>0.673313</td>\n",
       "    </tr>\n",
       "    <tr>\n",
       "      <th>std</th>\n",
       "      <td>0.431842</td>\n",
       "      <td>1.390817</td>\n",
       "      <td>0.979043</td>\n",
       "      <td>0.447609</td>\n",
       "      <td>1.103776</td>\n",
       "      <td>8136.349947</td>\n",
       "      <td>16319.523583</td>\n",
       "      <td>0.469182</td>\n",
       "    </tr>\n",
       "    <tr>\n",
       "      <th>min</th>\n",
       "      <td>0.000000</td>\n",
       "      <td>4.000000</td>\n",
       "      <td>2.000000</td>\n",
       "      <td>0.000000</td>\n",
       "      <td>1.600000</td>\n",
       "      <td>266.000000</td>\n",
       "      <td>8638.930895</td>\n",
       "      <td>0.000000</td>\n",
       "    </tr>\n",
       "    <tr>\n",
       "      <th>25%</th>\n",
       "      <td>1.000000</td>\n",
       "      <td>4.000000</td>\n",
       "      <td>4.000000</td>\n",
       "      <td>0.000000</td>\n",
       "      <td>2.200000</td>\n",
       "      <td>14779.500000</td>\n",
       "      <td>16498.527113</td>\n",
       "      <td>0.000000</td>\n",
       "    </tr>\n",
       "    <tr>\n",
       "      <th>50%</th>\n",
       "      <td>1.000000</td>\n",
       "      <td>4.000000</td>\n",
       "      <td>4.000000</td>\n",
       "      <td>1.000000</td>\n",
       "      <td>2.500000</td>\n",
       "      <td>20913.500000</td>\n",
       "      <td>29937.817257</td>\n",
       "      <td>1.000000</td>\n",
       "    </tr>\n",
       "    <tr>\n",
       "      <th>75%</th>\n",
       "      <td>1.000000</td>\n",
       "      <td>6.000000</td>\n",
       "      <td>5.000000</td>\n",
       "      <td>1.000000</td>\n",
       "      <td>3.800000</td>\n",
       "      <td>25155.500000</td>\n",
       "      <td>48743.928062</td>\n",
       "      <td>1.000000</td>\n",
       "    </tr>\n",
       "    <tr>\n",
       "      <th>max</th>\n",
       "      <td>1.000000</td>\n",
       "      <td>8.000000</td>\n",
       "      <td>5.000000</td>\n",
       "      <td>1.000000</td>\n",
       "      <td>6.000000</td>\n",
       "      <td>50387.000000</td>\n",
       "      <td>70755.466717</td>\n",
       "      <td>1.000000</td>\n",
       "    </tr>\n",
       "  </tbody>\n",
       "</table>\n",
       "</div>"
      ],
      "text/plain": [
       "            Cruise     Cylinder        Doors      Leather        Liter  \\\n",
       "count  1304.000000  1304.000000  1304.000000  1304.000000  1304.000000   \n",
       "mean      0.752301     5.246933     4.092025     0.723160     3.018328   \n",
       "std       0.431842     1.390817     0.979043     0.447609     1.103776   \n",
       "min       0.000000     4.000000     2.000000     0.000000     1.600000   \n",
       "25%       1.000000     4.000000     4.000000     0.000000     2.200000   \n",
       "50%       1.000000     4.000000     4.000000     1.000000     2.500000   \n",
       "75%       1.000000     6.000000     5.000000     1.000000     3.800000   \n",
       "max       1.000000     8.000000     5.000000     1.000000     6.000000   \n",
       "\n",
       "            Mileage         Price        Sound  \n",
       "count   1304.000000   1304.000000  1304.000000  \n",
       "mean   19852.257669  32405.028151     0.673313  \n",
       "std     8136.349947  16319.523583     0.469182  \n",
       "min      266.000000   8638.930895     0.000000  \n",
       "25%    14779.500000  16498.527113     0.000000  \n",
       "50%    20913.500000  29937.817257     1.000000  \n",
       "75%    25155.500000  48743.928062     1.000000  \n",
       "max    50387.000000  70755.466717     1.000000  "
      ]
     },
     "execution_count": 95,
     "metadata": {},
     "output_type": "execute_result"
    }
   ],
   "source": [
    "df2 = pd.concat([df,df1])\n",
    "df2.describe()"
   ]
  },
  {
   "cell_type": "code",
   "execution_count": 98,
   "metadata": {
    "scrolled": false
   },
   "outputs": [
    {
     "name": "stderr",
     "output_type": "stream",
     "text": [
      "/home/mguerson/anaconda3/lib/python3.7/site-packages/sklearn/utils/validation.py:595: DataConversionWarning: Data with input dtype int64 was converted to float64 by StandardScaler.\n",
      "  warnings.warn(msg, DataConversionWarning)\n",
      "/home/mguerson/anaconda3/lib/python3.7/site-packages/sklearn/utils/validation.py:595: DataConversionWarning: Data with input dtype int64 was converted to float64 by StandardScaler.\n",
      "  warnings.warn(msg, DataConversionWarning)\n"
     ]
    },
    {
     "name": "stdout",
     "output_type": "stream",
     "text": [
      "     const   Mileage  Cylinder     Doors\n",
      "0      1.0 -1.430091  0.541665 -0.094030\n",
      "1      1.0 -1.317712  0.541665 -0.094030\n",
      "2      1.0 -0.818403  0.541665 -0.094030\n",
      "3      1.0 -0.431595  0.541665 -0.094030\n",
      "4      1.0 -0.002491  0.541665 -0.094030\n",
      "5      1.0  0.293087  0.541665 -0.094030\n",
      "6      1.0  0.334891  0.541665 -0.094030\n",
      "7      1.0  0.382596  0.541665 -0.094030\n",
      "8      1.0  0.512557  0.541665 -0.094030\n",
      "9      1.0  0.918792  0.541665 -0.094030\n",
      "10     1.0 -1.182219  0.541665 -0.094030\n",
      "11     1.0 -0.588482  0.541665 -0.094030\n",
      "12     1.0 -0.395815  0.541665 -0.094030\n",
      "13     1.0 -0.006425  0.541665 -0.094030\n",
      "14     1.0  0.431162  0.541665 -0.094030\n",
      "15     1.0  0.481081  0.541665 -0.094030\n",
      "16     1.0  0.510958  0.541665 -0.094030\n",
      "17     1.0  0.760060  0.541665 -0.094030\n",
      "18     1.0  1.603759  0.541665 -0.094030\n",
      "19     1.0  1.821262  0.541665 -0.094030\n",
      "20     1.0 -1.338000  0.541665 -0.094030\n",
      "21     1.0 -1.140415  0.541665 -0.094030\n",
      "22     1.0 -0.674917  0.541665 -0.094030\n",
      "23     1.0 -0.411184  0.541665 -0.094030\n",
      "24     1.0 -0.116099  0.541665 -0.094030\n",
      "25     1.0 -0.047368  0.541665 -0.094030\n",
      "26     1.0  0.189561  0.541665 -0.094030\n",
      "27     1.0  0.337350  0.541665 -0.094030\n",
      "28     1.0  0.567639  0.541665 -0.094030\n",
      "29     1.0  0.663051  0.541665 -0.094030\n",
      "..     ...       ...       ...       ...\n",
      "470    1.0  0.621247  0.541665  0.927767\n",
      "471    1.0  0.543172 -0.896891  0.927767\n",
      "472    1.0  0.035010  0.541665  0.927767\n",
      "473    1.0 -0.333724  1.980220  0.927767\n",
      "474    1.0  0.963177 -0.896891  0.927767\n",
      "475    1.0 -0.573236  0.541665  0.927767\n",
      "476    1.0  0.721084  1.980220  0.927767\n",
      "477    1.0  1.772573 -0.896891  0.927767\n",
      "478    1.0 -0.583810  1.980220  0.927767\n",
      "479    1.0 -0.356840  0.541665  0.927767\n",
      "480    1.0  0.000214 -0.896891  0.927767\n",
      "481    1.0  0.214028  1.980220  0.927767\n",
      "482    1.0 -0.156304  1.980220  0.927767\n",
      "483    1.0 -0.554424  1.980220  0.927767\n",
      "484    1.0  0.037100  0.541665  0.927767\n",
      "485    1.0  1.902534  0.541665  0.927767\n",
      "486    1.0 -0.405529  0.541665  0.927767\n",
      "487    1.0 -0.129992  0.541665  0.927767\n",
      "488    1.0  0.926046  0.541665  0.927767\n",
      "489    1.0  0.243045  0.541665  0.927767\n",
      "490    1.0 -0.048106 -0.896891  0.927767\n",
      "491    1.0  2.124094  0.541665  0.927767\n",
      "492    1.0 -2.326291  0.541665  0.927767\n",
      "493    1.0 -1.615995 -0.896891  0.927767\n",
      "494    1.0 -0.449914  1.980220  0.927767\n",
      "495    1.0  1.410478  0.541665  0.927767\n",
      "496    1.0  2.470574 -0.896891  0.927767\n",
      "497    1.0  0.513295  0.541665  0.927767\n",
      "498    1.0 -0.034827 -0.896891  0.927767\n",
      "499    1.0  1.662531 -0.896891  0.927767\n",
      "\n",
      "[1304 rows x 4 columns]\n",
      "                            OLS Regression Results                            \n",
      "==============================================================================\n",
      "Dep. Variable:                  Price   R-squared:                       0.384\n",
      "Model:                            OLS   Adj. R-squared:                  0.382\n",
      "Method:                 Least Squares   F-statistic:                     270.0\n",
      "Date:                Wed, 08 Jun 2022   Prob (F-statistic):          3.37e-136\n",
      "Time:                        19:40:01   Log-Likelihood:                -14183.\n",
      "No. Observations:                1304   AIC:                         2.837e+04\n",
      "Df Residuals:                    1300   BIC:                         2.839e+04\n",
      "Df Model:                           3                                         \n",
      "Covariance Type:            nonrobust                                         \n",
      "==============================================================================\n",
      "                 coef    std err          t      P>|t|      [0.025      0.975]\n",
      "------------------------------------------------------------------------------\n",
      "const       3.241e+04    355.138     91.246      0.000    3.17e+04    3.31e+04\n",
      "Mileage     -718.3374    355.241     -2.022      0.043   -1415.245     -21.430\n",
      "Cylinder    3276.4387    355.264      9.223      0.000    2579.485    3973.392\n",
      "Doors       9567.9143    355.179     26.938      0.000    8871.128    1.03e+04\n",
      "==============================================================================\n",
      "Omnibus:                       23.589   Durbin-Watson:                   0.258\n",
      "Prob(Omnibus):                  0.000   Jarque-Bera (JB):               23.098\n",
      "Skew:                           0.296   Prob(JB):                     9.65e-06\n",
      "Kurtosis:                       2.725   Cond. No.                         1.03\n",
      "==============================================================================\n",
      "\n",
      "Warnings:\n",
      "[1] Standard Errors assume that the covariance matrix of the errors is correctly specified.\n"
     ]
    },
    {
     "name": "stderr",
     "output_type": "stream",
     "text": [
      "/home/mguerson/anaconda3/lib/python3.7/site-packages/ipykernel_launcher.py:9: SettingWithCopyWarning: \n",
      "A value is trying to be set on a copy of a slice from a DataFrame.\n",
      "Try using .loc[row_indexer,col_indexer] = value instead\n",
      "\n",
      "See the caveats in the documentation: http://pandas.pydata.org/pandas-docs/stable/indexing.html#indexing-view-versus-copy\n",
      "  if __name__ == '__main__':\n",
      "/home/mguerson/anaconda3/lib/python3.7/site-packages/pandas/core/indexing.py:543: SettingWithCopyWarning: \n",
      "A value is trying to be set on a copy of a slice from a DataFrame.\n",
      "Try using .loc[row_indexer,col_indexer] = value instead\n",
      "\n",
      "See the caveats in the documentation: http://pandas.pydata.org/pandas-docs/stable/indexing.html#indexing-view-versus-copy\n",
      "  self.obj[item] = s\n",
      "/home/mguerson/anaconda3/lib/python3.7/site-packages/numpy/core/fromnumeric.py:2389: FutureWarning: Method .ptp is deprecated and will be removed in a future version. Use numpy.ptp instead.\n",
      "  return ptp(axis=axis, out=out, **kwargs)\n"
     ]
    }
   ],
   "source": [
    "est = multiple_regression(df2)"
   ]
  },
  {
   "cell_type": "code",
   "execution_count": 100,
   "metadata": {},
   "outputs": [
    {
     "name": "stdout",
     "output_type": "stream",
     "text": [
      "[ 1.          3.07256589 -0.91489572  1.73324805]\n",
      "[43783.85803367]\n"
     ]
    }
   ],
   "source": [
    "scaled = scale.transform([[45000, 4, 5]])\n",
    "scaled = np.insert(scaled[0], 0, 1) #Need to add that constant column in again.\n",
    "print(scaled)\n",
    "predicted = est.predict(scaled)\n",
    "print(predicted)"
   ]
  }
 ],
 "metadata": {
  "kernelspec": {
   "display_name": "Python 3",
   "language": "python",
   "name": "python3"
  },
  "language_info": {
   "codemirror_mode": {
    "name": "ipython",
    "version": 3
   },
   "file_extension": ".py",
   "mimetype": "text/x-python",
   "name": "python",
   "nbconvert_exporter": "python",
   "pygments_lexer": "ipython3",
   "version": "3.7.3"
  }
 },
 "nbformat": 4,
 "nbformat_minor": 1
}
